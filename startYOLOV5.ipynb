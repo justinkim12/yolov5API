{
 "cells": [
  {
   "cell_type": "code",
   "execution_count": 22,
   "id": "7beadb49",
   "metadata": {
    "scrolled": true
   },
   "outputs": [],
   "source": [
    "# !pip install torch torchvision torchaudio --extra-index-url https://download.pytorch.org/whl/cu113"
   ]
  },
  {
   "cell_type": "code",
   "execution_count": 23,
   "id": "e0bd5953",
   "metadata": {},
   "outputs": [],
   "source": [
    "# !git clone https://github.com/ultralytics/yolov5"
   ]
  },
  {
   "cell_type": "code",
   "execution_count": 24,
   "id": "6446e2f1",
   "metadata": {},
   "outputs": [],
   "source": [
    "# !pip install -r ./yolov5/requirements.txt"
   ]
  },
  {
   "cell_type": "code",
   "execution_count": 1,
   "id": "ffcf6eff",
   "metadata": {},
   "outputs": [],
   "source": [
    "#install dependencies\n",
    "import torch \n",
    "from matplotlib import pyplot as plt\n",
    "import numpy as np\n",
    "import cv2\n",
    "import os\n",
    "os.environ['KMP_DUPLICATE_LIB_OK']='True'"
   ]
  },
  {
   "cell_type": "code",
   "execution_count": 2,
   "id": "55065e9b",
   "metadata": {},
   "outputs": [
    {
     "name": "stderr",
     "output_type": "stream",
     "text": [
      "Using cache found in C:\\Users\\justi/.cache\\torch\\hub\\ultralytics_yolov5_master\n",
      "YOLOv5  2023-11-9 Python-3.9.18 torch-2.0.1+cpu CPU\n",
      "\n",
      "Fusing layers... \n",
      "YOLOv5s summary: 213 layers, 7225885 parameters, 0 gradients\n",
      "Adding AutoShape... \n"
     ]
    }
   ],
   "source": [
    "model = torch.hub.load('ultralytics/yolov5', 'yolov5s')"
   ]
  },
  {
   "cell_type": "code",
   "execution_count": null,
   "id": "a008a50f",
   "metadata": {
    "scrolled": true
   },
   "outputs": [],
   "source": []
  },
  {
   "cell_type": "code",
   "execution_count": null,
   "id": "021d218e",
   "metadata": {},
   "outputs": [],
   "source": []
  },
  {
   "cell_type": "code",
   "execution_count": 4,
   "id": "22984230",
   "metadata": {
    "scrolled": false
   },
   "outputs": [
    {
     "data": {
      "text/plain": [
       "'[{\"xmin\":743.2904052734,\"ymin\":48.3436584473,\"xmax\":1141.7565917969,\"ymax\":720.0,\"confidence\":0.87986058,\"class\":0,\"name\":\"person\"},{\"xmin\":441.9896240234,\"ymin\":437.336730957,\"xmax\":496.5850830078,\"ymax\":710.0361938477,\"confidence\":0.6751193404,\"class\":27,\"name\":\"tie\"},{\"xmin\":123.0511474609,\"ymin\":193.2380981445,\"xmax\":714.6907348633,\"ymax\":719.7713012695,\"confidence\":0.6666929126,\"class\":0,\"name\":\"person\"},{\"xmin\":978.9898071289,\"ymin\":313.5794677734,\"xmax\":1025.3028564453,\"ymax\":415.526184082,\"confidence\":0.2615174651,\"class\":27,\"name\":\"tie\"}]'"
      ]
     },
     "execution_count": 4,
     "metadata": {},
     "output_type": "execute_result"
    }
   ],
   "source": [
    "img = \"https://ultralytics.com/images/zidane.jpg\"\n",
    "results = model(img, size=640) \n",
    "results.pandas().xyxy[0].to_json(orient='records')"
   ]
  },
  {
   "cell_type": "code",
   "execution_count": null,
   "id": "661fecf3",
   "metadata": {},
   "outputs": [],
   "source": []
  },
  {
   "cell_type": "code",
   "execution_count": 5,
   "id": "9ec005bf",
   "metadata": {},
   "outputs": [
    {
     "name": "stderr",
     "output_type": "stream",
     "text": [
      "usage: ipykernel_launcher.py [-h] [--port PORT] [--model MODEL [MODEL ...]]\n",
      "ipykernel_launcher.py: error: unrecognized arguments: --ip=127.0.0.1 --stdin=9003 --control=9001 --hb=9000 --Session.signature_scheme=\"hmac-sha256\" --Session.key=b\"8b3b899c-2443-4f47-b07d-d8047368308c\" --shell=9002 --transport=\"tcp\" --iopub=9004 --f=c:\\Users\\justi\\AppData\\Roaming\\jupyter\\runtime\\kernel-v2-7700QLZADvn1oXS8.json\n"
     ]
    },
    {
     "ename": "SystemExit",
     "evalue": "2",
     "output_type": "error",
     "traceback": [
      "An exception has occurred, use %tb to see the full traceback.\n",
      "\u001b[1;31mSystemExit\u001b[0m\u001b[1;31m:\u001b[0m 2\n"
     ]
    }
   ],
   "source": [
    "# YOLOv5 🚀 by Ultralytics, AGPL-3.0 license\n",
    "\"\"\"\n",
    "Run a Flask REST API exposing one or more YOLOv5s models\n",
    "\"\"\"\n",
    "\n",
    "import argparse\n",
    "import io\n",
    "\n",
    "import torch\n",
    "from flask import Flask, request\n",
    "from PIL import Image\n",
    "\n",
    "app = Flask(__name__)\n",
    "models = {}\n",
    "\n",
    "DETECTION_URL = '/v1/object-detection/<model>'\n",
    "\n",
    "\n",
    "@app.route(DETECTION_URL, methods=['POST'])\n",
    "def predict(model):\n",
    "    if request.method != 'POST':\n",
    "        return\n",
    "\n",
    "    if request.files.get('image'):\n",
    "        # Method 1\n",
    "        # with request.files[\"image\"] as f:\n",
    "        #     im = Image.open(io.BytesIO(f.read()))\n",
    "\n",
    "        # Method 2\n",
    "        im_file = request.files['image']\n",
    "        im_bytes = im_file.read()\n",
    "        im = Image.open(io.BytesIO(im_bytes))\n",
    "\n",
    "        if model in models:\n",
    "            results = models[model](im, size=640)  # reduce size=320 for faster inference\n",
    "            return results.pandas().xyxy[0].to_json(orient='records')\n",
    "\n",
    "\n",
    "if __name__ == '__main__':\n",
    "    parser = argparse.ArgumentParser(description='Flask API exposing YOLOv5 model')\n",
    "    parser.add_argument('--port', default=5000, type=int, help='port number')\n",
    "    parser.add_argument('--model', nargs='+', default=['yolov5s'], help='model(s) to run, i.e. --model yolov5n yolov5s')\n",
    "    opt = parser.parse_args()\n",
    "    m = torch.hub.load('ultralytics/yolov5', 'yolov5s')\n",
    "#     for m in opt.model:\n",
    "    models[0] = torch.hub.load('ultralytics/yolov5', m, force_reload=True, skip_validation=True)\n",
    "\n",
    "    app.run(host='0.0.0.0', port=opt.port)  # debug=True causes Restarting with stat\n"
   ]
  },
  {
   "cell_type": "code",
   "execution_count": null,
   "id": "c579c180",
   "metadata": {},
   "outputs": [],
   "source": []
  }
 ],
 "metadata": {
  "kernelspec": {
   "display_name": "Python 3 (ipykernel)",
   "language": "python",
   "name": "python3"
  },
  "language_info": {
   "codemirror_mode": {
    "name": "ipython",
    "version": 3
   },
   "file_extension": ".py",
   "mimetype": "text/x-python",
   "name": "python",
   "nbconvert_exporter": "python",
   "pygments_lexer": "ipython3",
   "version": "3.9.18"
  }
 },
 "nbformat": 4,
 "nbformat_minor": 5
}
